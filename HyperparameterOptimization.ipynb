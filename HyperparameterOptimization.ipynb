{
 "cells": [
  {
   "cell_type": "markdown",
   "metadata": {
    "slideshow": {
     "slide_type": "slide"
    }
   },
   "source": [
    "# Hyperparameter Optimization Example\n",
    "\n",
    "### Author and Date:\n",
    "- Christian Michelsen (Niels Bohr Institute)   \n",
    "- 15-05-2019 (latest update)\n",
    "\n",
    "***"
   ]
  },
  {
   "cell_type": "markdown",
   "metadata": {
    "slideshow": {
     "slide_type": "notes"
    }
   },
   "source": [
    "This is a Jupyter Notebook which in an interactive fashion illustrates hyperparameter optimization (HPO). \n",
    "\n",
    "First it shows the most naive, manual approach, then grid search, and finally bayesian optimization. \n",
    "\n",
    "This notebook is based on the __[HTRU2 Pulsar dataset](https://archive.ics.uci.edu/ml/datasets/HTRU2)__. \n",
    "\n",
    "The focus on this small example is neither the actual code nor getting any specific results, but - hopefully - getting a better understanding of HPO. This is also why we don't describe the code in great detail - and simply load the dataset from a csv file directly - but the first part of the code should hopefully look familiar. "
   ]
  },
  {
   "cell_type": "markdown",
   "metadata": {
    "slideshow": {
     "slide_type": "fragment"
    }
   },
   "source": [
    "- Interactive Jupyter Notebook Presentation about Hyperparameter Optimization (HPO)"
   ]
  },
  {
   "cell_type": "markdown",
   "metadata": {
    "slideshow": {
     "slide_type": "fragment"
    }
   },
   "source": [
    "1. Naive, manual approach\n",
    "2. Grid search\n",
    "3. Random search\n",
    "4. Bayesian optimization\n",
    "5. \"Full\" scan over parameter space\n",
    "6. Other Examples\n"
   ]
  },
  {
   "cell_type": "markdown",
   "metadata": {
    "slideshow": {
     "slide_type": "fragment"
    }
   },
   "source": [
    "- __[HTRU2 Pulsar dataset](https://archive.ics.uci.edu/ml/datasets/HTRU2)__"
   ]
  },
  {
   "cell_type": "markdown",
   "metadata": {
    "slideshow": {
     "slide_type": "fragment"
    }
   },
   "source": [
    "- Focus on the understanding of HPO, not the actual code"
   ]
  },
  {
   "cell_type": "markdown",
   "metadata": {
    "slideshow": {
     "slide_type": "skip"
    }
   },
   "source": [
    "***"
   ]
  },
  {
   "cell_type": "markdown",
   "metadata": {
    "slideshow": {
     "slide_type": "slide"
    }
   },
   "source": [
    "### Nomenclature\n",
    "- Machine Learning Model: $\\mathcal{A}$\n",
    "- $N$ hyperparameters\n",
    "- Domain: $\\Lambda_n$\n",
    "- Hyperparameter configuration space: $\\mathbf{\\Lambda}=\\Lambda_1 \\times \\Lambda_2 \\times \\dots \\times \\Lambda_N $\n",
    "- Vector of hyperparameters: $\\mathbf{\\lambda} \\in \\mathbf{\\Lambda}$\n",
    "- Specific ML model: $\\mathcal{A}_\\mathbf{\\lambda}$"
   ]
  },
  {
   "cell_type": "markdown",
   "metadata": {
    "slideshow": {
     "slide_type": "subslide"
    }
   },
   "source": [
    "### Domain of hyperparameters:\n",
    "\n",
    "1. real\n",
    "2. integer\n",
    "3. binary\n",
    "4. categorical"
   ]
  },
  {
   "cell_type": "markdown",
   "metadata": {
    "slideshow": {
     "slide_type": "subslide"
    }
   },
   "source": [
    "### Goal:\n",
    "\n",
    "Given a dataset $\\mathcal{D}$, find $\\mathbf{\\lambda}^{*}$ where:\n",
    "\n",
    "$$ \\mathbf{\\lambda}^{*} = \\mathop{\\mathrm{argmin}}_{\\mathbf{\\lambda} \\in \\mathbf{\\Lambda}} \\mathbb{E}_{D_\\mathrm{test} \\thicksim \\mathcal{D}} \\, \\left[ \\mathbf{V}\\left(\\mathcal{L}, \\mathcal{A}_\\mathbf{\\lambda}, D_\\mathrm{test}\\right) \\right]  $$\n",
    "\n",
    "In practice we have to approximate the expectation above. "
   ]
  },
  {
   "cell_type": "markdown",
   "metadata": {
    "slideshow": {
     "slide_type": "skip"
    }
   },
   "source": [
    "***"
   ]
  },
  {
   "cell_type": "markdown",
   "metadata": {
    "slideshow": {
     "slide_type": "slide"
    }
   },
   "source": [
    "First, we import the modules we want to use:"
   ]
  },
  {
   "cell_type": "code",
   "execution_count": 1,
   "metadata": {
    "slideshow": {
     "slide_type": "fragment"
    }
   },
   "outputs": [],
   "source": [
    "import numpy as np\n",
    "from sklearn.tree import DecisionTreeClassifier, export_graphviz\n",
    "from sklearn import tree\n",
    "from sklearn.datasets import load_iris, load_wine\n",
    "from sklearn.metrics import accuracy_score\n",
    "from IPython.display import SVG\n",
    "from graphviz import Source\n",
    "from IPython.display import display                               \n",
    "from ipywidgets import interactive\n",
    "import pandas as pd\n",
    "from sklearn.model_selection import train_test_split\n",
    "from sklearn.model_selection import GridSearchCV\n",
    "import seaborn as sns\n",
    "from sklearn.model_selection import RandomizedSearchCV\n",
    "from scipy.stats import randint, poisson\n",
    "import numpy as np\n",
    "import matplotlib.pyplot as plt\n",
    "from tqdm import tqdm"
   ]
  },
  {
   "cell_type": "markdown",
   "metadata": {
    "slideshow": {
     "slide_type": "subslide"
    }
   },
   "source": [
    "We read in the data:"
   ]
  },
  {
   "cell_type": "code",
   "execution_count": 2,
   "metadata": {
    "slideshow": {
     "slide_type": "fragment"
    }
   },
   "outputs": [
    {
     "data": {
      "text/html": [
       "<div>\n",
       "<style scoped>\n",
       "    .dataframe tbody tr th:only-of-type {\n",
       "        vertical-align: middle;\n",
       "    }\n",
       "\n",
       "    .dataframe tbody tr th {\n",
       "        vertical-align: top;\n",
       "    }\n",
       "\n",
       "    .dataframe thead th {\n",
       "        text-align: right;\n",
       "    }\n",
       "</style>\n",
       "<table border=\"1\" class=\"dataframe\">\n",
       "  <thead>\n",
       "    <tr style=\"text-align: right;\">\n",
       "      <th></th>\n",
       "      <th>Mean_SNR</th>\n",
       "      <th>STD_SNR</th>\n",
       "      <th>Kurtosis_SNR</th>\n",
       "      <th>Skewness_SNR</th>\n",
       "      <th>Class</th>\n",
       "    </tr>\n",
       "  </thead>\n",
       "  <tbody>\n",
       "    <tr>\n",
       "      <th>0</th>\n",
       "      <td>27.555184</td>\n",
       "      <td>61.719016</td>\n",
       "      <td>2.208808</td>\n",
       "      <td>3.662680</td>\n",
       "      <td>1</td>\n",
       "    </tr>\n",
       "    <tr>\n",
       "      <th>1</th>\n",
       "      <td>1.358696</td>\n",
       "      <td>13.079034</td>\n",
       "      <td>13.312141</td>\n",
       "      <td>212.597029</td>\n",
       "      <td>1</td>\n",
       "    </tr>\n",
       "    <tr>\n",
       "      <th>2</th>\n",
       "      <td>73.112876</td>\n",
       "      <td>62.070220</td>\n",
       "      <td>1.268206</td>\n",
       "      <td>1.082920</td>\n",
       "      <td>1</td>\n",
       "    </tr>\n",
       "    <tr>\n",
       "      <th>3</th>\n",
       "      <td>146.568562</td>\n",
       "      <td>82.394624</td>\n",
       "      <td>-0.274902</td>\n",
       "      <td>-1.121848</td>\n",
       "      <td>1</td>\n",
       "    </tr>\n",
       "    <tr>\n",
       "      <th>4</th>\n",
       "      <td>6.071070</td>\n",
       "      <td>29.760400</td>\n",
       "      <td>5.318767</td>\n",
       "      <td>28.698048</td>\n",
       "      <td>1</td>\n",
       "    </tr>\n",
       "    <tr>\n",
       "      <th>5</th>\n",
       "      <td>32.919732</td>\n",
       "      <td>65.094197</td>\n",
       "      <td>1.605538</td>\n",
       "      <td>0.871364</td>\n",
       "      <td>1</td>\n",
       "    </tr>\n",
       "    <tr>\n",
       "      <th>6</th>\n",
       "      <td>34.101171</td>\n",
       "      <td>62.577395</td>\n",
       "      <td>1.890020</td>\n",
       "      <td>2.572133</td>\n",
       "      <td>1</td>\n",
       "    </tr>\n",
       "    <tr>\n",
       "      <th>7</th>\n",
       "      <td>50.107860</td>\n",
       "      <td>66.321825</td>\n",
       "      <td>1.456423</td>\n",
       "      <td>1.335182</td>\n",
       "      <td>1</td>\n",
       "    </tr>\n",
       "    <tr>\n",
       "      <th>8</th>\n",
       "      <td>176.119565</td>\n",
       "      <td>59.737720</td>\n",
       "      <td>-1.785377</td>\n",
       "      <td>2.940913</td>\n",
       "      <td>1</td>\n",
       "    </tr>\n",
       "    <tr>\n",
       "      <th>9</th>\n",
       "      <td>183.622910</td>\n",
       "      <td>79.932815</td>\n",
       "      <td>-1.326647</td>\n",
       "      <td>0.346712</td>\n",
       "      <td>1</td>\n",
       "    </tr>\n",
       "  </tbody>\n",
       "</table>\n",
       "</div>"
      ],
      "text/plain": [
       "     Mean_SNR    STD_SNR  Kurtosis_SNR  Skewness_SNR  Class\n",
       "0   27.555184  61.719016      2.208808      3.662680      1\n",
       "1    1.358696  13.079034     13.312141    212.597029      1\n",
       "2   73.112876  62.070220      1.268206      1.082920      1\n",
       "3  146.568562  82.394624     -0.274902     -1.121848      1\n",
       "4    6.071070  29.760400      5.318767     28.698048      1\n",
       "5   32.919732  65.094197      1.605538      0.871364      1\n",
       "6   34.101171  62.577395      1.890020      2.572133      1\n",
       "7   50.107860  66.321825      1.456423      1.335182      1\n",
       "8  176.119565  59.737720     -1.785377      2.940913      1\n",
       "9  183.622910  79.932815     -1.326647      0.346712      1"
      ]
     },
     "execution_count": 2,
     "metadata": {},
     "output_type": "execute_result"
    }
   ],
   "source": [
    "df = pd.read_csv('./data/Pulsar_data.csv')\n",
    "\n",
    "df.head(10)"
   ]
  },
  {
   "cell_type": "markdown",
   "metadata": {
    "slideshow": {
     "slide_type": "subslide"
    }
   },
   "source": [
    "And load the actual dataset:"
   ]
  },
  {
   "cell_type": "code",
   "execution_count": 3,
   "metadata": {
    "slideshow": {
     "slide_type": "fragment"
    }
   },
   "outputs": [
    {
     "name": "stdout",
     "output_type": "stream",
     "text": [
      "(3278, 4)\n"
     ]
    },
    {
     "data": {
      "text/html": [
       "<div>\n",
       "<style scoped>\n",
       "    .dataframe tbody tr th:only-of-type {\n",
       "        vertical-align: middle;\n",
       "    }\n",
       "\n",
       "    .dataframe tbody tr th {\n",
       "        vertical-align: top;\n",
       "    }\n",
       "\n",
       "    .dataframe thead th {\n",
       "        text-align: right;\n",
       "    }\n",
       "</style>\n",
       "<table border=\"1\" class=\"dataframe\">\n",
       "  <thead>\n",
       "    <tr style=\"text-align: right;\">\n",
       "      <th></th>\n",
       "      <th>Mean_SNR</th>\n",
       "      <th>STD_SNR</th>\n",
       "      <th>Kurtosis_SNR</th>\n",
       "      <th>Skewness_SNR</th>\n",
       "    </tr>\n",
       "  </thead>\n",
       "  <tbody>\n",
       "    <tr>\n",
       "      <th>233</th>\n",
       "      <td>159.849498</td>\n",
       "      <td>76.740010</td>\n",
       "      <td>-0.575016</td>\n",
       "      <td>-0.941293</td>\n",
       "    </tr>\n",
       "    <tr>\n",
       "      <th>831</th>\n",
       "      <td>4.243311</td>\n",
       "      <td>26.746490</td>\n",
       "      <td>7.110978</td>\n",
       "      <td>52.701218</td>\n",
       "    </tr>\n",
       "    <tr>\n",
       "      <th>2658</th>\n",
       "      <td>1.015050</td>\n",
       "      <td>10.449662</td>\n",
       "      <td>15.593479</td>\n",
       "      <td>316.011541</td>\n",
       "    </tr>\n",
       "    <tr>\n",
       "      <th>2495</th>\n",
       "      <td>2.235786</td>\n",
       "      <td>19.071848</td>\n",
       "      <td>9.659137</td>\n",
       "      <td>99.294390</td>\n",
       "    </tr>\n",
       "    <tr>\n",
       "      <th>2603</th>\n",
       "      <td>2.266722</td>\n",
       "      <td>15.512103</td>\n",
       "      <td>9.062942</td>\n",
       "      <td>99.652157</td>\n",
       "    </tr>\n",
       "    <tr>\n",
       "      <th>111</th>\n",
       "      <td>121.404682</td>\n",
       "      <td>47.965569</td>\n",
       "      <td>0.663053</td>\n",
       "      <td>1.203139</td>\n",
       "    </tr>\n",
       "    <tr>\n",
       "      <th>1370</th>\n",
       "      <td>35.209866</td>\n",
       "      <td>60.573157</td>\n",
       "      <td>1.635995</td>\n",
       "      <td>1.609377</td>\n",
       "    </tr>\n",
       "    <tr>\n",
       "      <th>1124</th>\n",
       "      <td>199.577759</td>\n",
       "      <td>58.656643</td>\n",
       "      <td>-1.862320</td>\n",
       "      <td>2.391870</td>\n",
       "    </tr>\n",
       "    <tr>\n",
       "      <th>2170</th>\n",
       "      <td>0.663043</td>\n",
       "      <td>8.571517</td>\n",
       "      <td>23.415092</td>\n",
       "      <td>655.614875</td>\n",
       "    </tr>\n",
       "    <tr>\n",
       "      <th>2177</th>\n",
       "      <td>3.112876</td>\n",
       "      <td>16.855717</td>\n",
       "      <td>8.301954</td>\n",
       "      <td>90.378150</td>\n",
       "    </tr>\n",
       "  </tbody>\n",
       "</table>\n",
       "</div>"
      ],
      "text/plain": [
       "        Mean_SNR    STD_SNR  Kurtosis_SNR  Skewness_SNR\n",
       "233   159.849498  76.740010     -0.575016     -0.941293\n",
       "831     4.243311  26.746490      7.110978     52.701218\n",
       "2658    1.015050  10.449662     15.593479    316.011541\n",
       "2495    2.235786  19.071848      9.659137     99.294390\n",
       "2603    2.266722  15.512103      9.062942     99.652157\n",
       "111   121.404682  47.965569      0.663053      1.203139\n",
       "1370   35.209866  60.573157      1.635995      1.609377\n",
       "1124  199.577759  58.656643     -1.862320      2.391870\n",
       "2170    0.663043   8.571517     23.415092    655.614875\n",
       "2177    3.112876  16.855717      8.301954     90.378150"
      ]
     },
     "execution_count": 3,
     "metadata": {},
     "output_type": "execute_result"
    }
   ],
   "source": [
    "X = df.drop(columns='Class')\n",
    "y = df['Class']\n",
    "feature_names = df.columns.tolist()[:-1]\n",
    "\n",
    "print(X.shape)\n",
    "\n",
    "X_train, X_test, y_train, y_test = train_test_split(X, \n",
    "                                                    y, \n",
    "                                                    test_size=0.20, \n",
    "                                                    random_state=42)\n",
    "X_train.head(10)"
   ]
  },
  {
   "cell_type": "markdown",
   "metadata": {
    "slideshow": {
     "slide_type": "subslide"
    }
   },
   "source": [
    "And check out the y values:"
   ]
  },
  {
   "cell_type": "code",
   "execution_count": 4,
   "metadata": {
    "slideshow": {
     "slide_type": "fragment"
    }
   },
   "outputs": [
    {
     "data": {
      "text/plain": [
       "233     1\n",
       "831     1\n",
       "2658    0\n",
       "2495    0\n",
       "2603    0\n",
       "111     1\n",
       "1370    1\n",
       "1124    1\n",
       "2170    0\n",
       "2177    0\n",
       "Name: Class, dtype: int64"
      ]
     },
     "execution_count": 4,
     "metadata": {},
     "output_type": "execute_result"
    }
   ],
   "source": [
    "y_train.head(10)"
   ]
  },
  {
   "cell_type": "code",
   "execution_count": 5,
   "metadata": {
    "slideshow": {
     "slide_type": "fragment"
    }
   },
   "outputs": [
    {
     "data": {
      "text/plain": [
       "0    1319\n",
       "1    1303\n",
       "Name: Class, dtype: int64"
      ]
     },
     "execution_count": 5,
     "metadata": {},
     "output_type": "execute_result"
    }
   ],
   "source": [
    "y_train.value_counts()"
   ]
  },
  {
   "cell_type": "markdown",
   "metadata": {
    "slideshow": {
     "slide_type": "skip"
    }
   },
   "source": [
    "***"
   ]
  },
  {
   "cell_type": "markdown",
   "metadata": {
    "slideshow": {
     "slide_type": "slide"
    }
   },
   "source": [
    "## Part A: Naïve Approach\n",
    "\n",
    "- Manual configuration\n",
    "- _\"[Babysitting is also known as Trial & Error or Grad Student Descent in the academic field](https://blog.floydhub.com/guide-to-hyperparameters-search-for-deep-learning-models/)\"_"
   ]
  },
  {
   "cell_type": "code",
   "execution_count": 6,
   "metadata": {
    "slideshow": {
     "slide_type": "subslide"
    }
   },
   "outputs": [
    {
     "data": {
      "application/vnd.jupyter.widget-view+json": {
       "model_id": "baf2a89ef908406a9bc49384e10acfb1",
       "version_major": 2,
       "version_minor": 0
      },
      "text/plain": [
       "interactive(children=(IntSlider(value=1, description='max_depth', max=10, min=1), IntSlider(value=1, descripti…"
      ]
     },
     "metadata": {},
     "output_type": "display_data"
    }
   ],
   "source": [
    "def fit_and_grapth_estimator(estimator):\n",
    "    \n",
    "    estimator.fit(X_train, y_train)\n",
    "    \n",
    "    accuracy = accuracy_score(y_train, estimator.predict(X_train))\n",
    "    print(f'Training Accuracy: {accuracy:.4f}')\n",
    "    \n",
    "    class_names = [str(i) for i in range(y_train.nunique())]\n",
    "    graph = Source(tree.export_graphviz(estimator, \n",
    "                                        out_file=None, \n",
    "                                        feature_names=feature_names, \n",
    "                                        class_names=class_names, \n",
    "                                        filled = True))\n",
    "    display(SVG(graph.pipe(format='svg')))\n",
    "    return estimator\n",
    "\n",
    "\n",
    "def plot_tree(max_depth=1, min_samples_leaf=1):\n",
    "    \n",
    "    estimator = DecisionTreeClassifier(random_state=42, \n",
    "                                       max_depth=max_depth, \n",
    "                                       min_samples_leaf=min_samples_leaf)\n",
    "    \n",
    "    return fit_and_grapth_estimator(estimator)\n",
    "\n",
    "display(interactive(plot_tree, \n",
    "                    max_depth=(1, 10, 1), \n",
    "                    min_samples_leaf=(1, 100, 1)))"
   ]
  },
  {
   "cell_type": "markdown",
   "metadata": {
    "slideshow": {
     "slide_type": "fragment"
    }
   },
   "source": [
    "__(Test this interactively in notebook)__"
   ]
  },
  {
   "cell_type": "markdown",
   "metadata": {
    "slideshow": {
     "slide_type": "subslide"
    }
   },
   "source": [
    "And test this configuration out on the test data:"
   ]
  },
  {
   "cell_type": "code",
   "execution_count": 7,
   "metadata": {
    "slideshow": {
     "slide_type": "fragment"
    }
   },
   "outputs": [
    {
     "name": "stdout",
     "output_type": "stream",
     "text": [
      "Accuracy Manual: 0.8201\n"
     ]
    }
   ],
   "source": [
    "clf_manual = DecisionTreeClassifier(random_state=42, \n",
    "                                    max_depth=10, \n",
    "                                    min_samples_leaf=5)\n",
    "\n",
    "clf_manual.fit(X_train, y_train)\n",
    "accuracy_manual = accuracy_score(y_test, clf_manual.predict(X_test))\n",
    "print(f'Accuracy Manual: {accuracy_manual:.4f}')"
   ]
  },
  {
   "cell_type": "markdown",
   "metadata": {
    "slideshow": {
     "slide_type": "skip"
    }
   },
   "source": [
    "***"
   ]
  },
  {
   "cell_type": "markdown",
   "metadata": {
    "slideshow": {
     "slide_type": "slide"
    }
   },
   "source": [
    "## Part B: Grid Search"
   ]
  },
  {
   "cell_type": "markdown",
   "metadata": {
    "slideshow": {
     "slide_type": "subslide"
    }
   },
   "source": [
    "Grid Search: \n",
    "\n",
    "- _full factorial design_ \n",
    "- Cartesian product\n",
    "- Curse of dimensionality (grows exponentially)\n"
   ]
  },
  {
   "cell_type": "markdown",
   "metadata": {
    "slideshow": {
     "slide_type": "fragment"
    }
   },
   "source": [
    "![title](./images/GridSearch.png)"
   ]
  },
  {
   "cell_type": "markdown",
   "metadata": {
    "slideshow": {
     "slide_type": "skip"
    }
   },
   "source": [
    "***"
   ]
  },
  {
   "cell_type": "markdown",
   "metadata": {
    "slideshow": {
     "slide_type": "subslide"
    }
   },
   "source": [
    "__[Grid Search](https://scikit-learn.org/stable/modules/generated/sklearn.model_selection.GridSearchCV.html#sklearn.model_selection.GridSearchCV\n",
    ")__ with Scikit Learn:"
   ]
  },
  {
   "cell_type": "code",
   "execution_count": 8,
   "metadata": {
    "slideshow": {
     "slide_type": "fragment"
    }
   },
   "outputs": [],
   "source": [
    "parameters_GridSearch = {'max_depth':[1, 10, 100], \n",
    "                         'min_samples_leaf':[1, 10, 100],\n",
    "                        }"
   ]
  },
  {
   "cell_type": "code",
   "execution_count": 9,
   "metadata": {
    "slideshow": {
     "slide_type": "fragment"
    }
   },
   "outputs": [],
   "source": [
    "clf_DecisionTree = DecisionTreeClassifier(random_state=42)"
   ]
  },
  {
   "cell_type": "code",
   "execution_count": 10,
   "metadata": {
    "slideshow": {
     "slide_type": "fragment"
    }
   },
   "outputs": [],
   "source": [
    "GridSearch = GridSearchCV(clf_DecisionTree, \n",
    "                          parameters_GridSearch, \n",
    "                          cv=5, \n",
    "                          return_train_score=True, \n",
    "                          refit=True, \n",
    "                          iid=False)"
   ]
  },
  {
   "cell_type": "code",
   "execution_count": 11,
   "metadata": {
    "slideshow": {
     "slide_type": "fragment"
    }
   },
   "outputs": [],
   "source": [
    "GridSearch.fit(X_train, y_train);"
   ]
  },
  {
   "cell_type": "code",
   "execution_count": 12,
   "metadata": {
    "slideshow": {
     "slide_type": "fragment"
    }
   },
   "outputs": [],
   "source": [
    "GridSearch_results = pd.DataFrame(GridSearch.cv_results_)        "
   ]
  },
  {
   "cell_type": "code",
   "execution_count": 13,
   "metadata": {
    "slideshow": {
     "slide_type": "fragment"
    }
   },
   "outputs": [
    {
     "name": "stdout",
     "output_type": "stream",
     "text": [
      "Grid Search: \tBest parameters:  {'max_depth': 1, 'min_samples_leaf': 1} , Best scores: 0.8551\n",
      "\n"
     ]
    }
   ],
   "source": [
    "print(\"Grid Search: \\tBest parameters: \", GridSearch.best_params_, f\", Best scores: {GridSearch.best_score_:.4f}\\n\")"
   ]
  },
  {
   "cell_type": "code",
   "execution_count": 14,
   "metadata": {
    "slideshow": {
     "slide_type": "subslide"
    }
   },
   "outputs": [
    {
     "data": {
      "text/html": [
       "<div>\n",
       "<style scoped>\n",
       "    .dataframe tbody tr th:only-of-type {\n",
       "        vertical-align: middle;\n",
       "    }\n",
       "\n",
       "    .dataframe tbody tr th {\n",
       "        vertical-align: top;\n",
       "    }\n",
       "\n",
       "    .dataframe thead th {\n",
       "        text-align: right;\n",
       "    }\n",
       "</style>\n",
       "<table border=\"1\" class=\"dataframe\">\n",
       "  <thead>\n",
       "    <tr style=\"text-align: right;\">\n",
       "      <th></th>\n",
       "      <th>mean_fit_time</th>\n",
       "      <th>std_fit_time</th>\n",
       "      <th>mean_score_time</th>\n",
       "      <th>std_score_time</th>\n",
       "      <th>param_max_depth</th>\n",
       "      <th>param_min_samples_leaf</th>\n",
       "      <th>params</th>\n",
       "      <th>split0_test_score</th>\n",
       "      <th>split1_test_score</th>\n",
       "      <th>split2_test_score</th>\n",
       "      <th>...</th>\n",
       "      <th>mean_test_score</th>\n",
       "      <th>std_test_score</th>\n",
       "      <th>rank_test_score</th>\n",
       "      <th>split0_train_score</th>\n",
       "      <th>split1_train_score</th>\n",
       "      <th>split2_train_score</th>\n",
       "      <th>split3_train_score</th>\n",
       "      <th>split4_train_score</th>\n",
       "      <th>mean_train_score</th>\n",
       "      <th>std_train_score</th>\n",
       "    </tr>\n",
       "  </thead>\n",
       "  <tbody>\n",
       "    <tr>\n",
       "      <th>0</th>\n",
       "      <td>0.002943</td>\n",
       "      <td>0.000348</td>\n",
       "      <td>0.001141</td>\n",
       "      <td>0.000132</td>\n",
       "      <td>1</td>\n",
       "      <td>1</td>\n",
       "      <td>{'max_depth': 1, 'min_samples_leaf': 1}</td>\n",
       "      <td>0.849524</td>\n",
       "      <td>0.862857</td>\n",
       "      <td>0.862857</td>\n",
       "      <td>...</td>\n",
       "      <td>0.855063</td>\n",
       "      <td>0.009268</td>\n",
       "      <td>1</td>\n",
       "      <td>0.862184</td>\n",
       "      <td>0.858369</td>\n",
       "      <td>0.858846</td>\n",
       "      <td>0.859390</td>\n",
       "      <td>0.860410</td>\n",
       "      <td>0.859840</td>\n",
       "      <td>0.001355</td>\n",
       "    </tr>\n",
       "    <tr>\n",
       "      <th>1</th>\n",
       "      <td>0.003372</td>\n",
       "      <td>0.000436</td>\n",
       "      <td>0.001316</td>\n",
       "      <td>0.000337</td>\n",
       "      <td>1</td>\n",
       "      <td>10</td>\n",
       "      <td>{'max_depth': 1, 'min_samples_leaf': 10}</td>\n",
       "      <td>0.849524</td>\n",
       "      <td>0.862857</td>\n",
       "      <td>0.862857</td>\n",
       "      <td>...</td>\n",
       "      <td>0.855063</td>\n",
       "      <td>0.009268</td>\n",
       "      <td>1</td>\n",
       "      <td>0.862184</td>\n",
       "      <td>0.858369</td>\n",
       "      <td>0.858846</td>\n",
       "      <td>0.859390</td>\n",
       "      <td>0.860410</td>\n",
       "      <td>0.859840</td>\n",
       "      <td>0.001355</td>\n",
       "    </tr>\n",
       "    <tr>\n",
       "      <th>2</th>\n",
       "      <td>0.003167</td>\n",
       "      <td>0.000347</td>\n",
       "      <td>0.001235</td>\n",
       "      <td>0.000192</td>\n",
       "      <td>1</td>\n",
       "      <td>100</td>\n",
       "      <td>{'max_depth': 1, 'min_samples_leaf': 100}</td>\n",
       "      <td>0.849524</td>\n",
       "      <td>0.862857</td>\n",
       "      <td>0.862857</td>\n",
       "      <td>...</td>\n",
       "      <td>0.855063</td>\n",
       "      <td>0.009268</td>\n",
       "      <td>1</td>\n",
       "      <td>0.862184</td>\n",
       "      <td>0.858369</td>\n",
       "      <td>0.858846</td>\n",
       "      <td>0.859390</td>\n",
       "      <td>0.860410</td>\n",
       "      <td>0.859840</td>\n",
       "      <td>0.001355</td>\n",
       "    </tr>\n",
       "    <tr>\n",
       "      <th>3</th>\n",
       "      <td>0.009747</td>\n",
       "      <td>0.000646</td>\n",
       "      <td>0.002139</td>\n",
       "      <td>0.001174</td>\n",
       "      <td>10</td>\n",
       "      <td>1</td>\n",
       "      <td>{'max_depth': 10, 'min_samples_leaf': 1}</td>\n",
       "      <td>0.847619</td>\n",
       "      <td>0.822857</td>\n",
       "      <td>0.859048</td>\n",
       "      <td>...</td>\n",
       "      <td>0.841720</td>\n",
       "      <td>0.012099</td>\n",
       "      <td>8</td>\n",
       "      <td>0.956128</td>\n",
       "      <td>0.948021</td>\n",
       "      <td>0.954220</td>\n",
       "      <td>0.962345</td>\n",
       "      <td>0.957122</td>\n",
       "      <td>0.955567</td>\n",
       "      <td>0.004635</td>\n",
       "    </tr>\n",
       "    <tr>\n",
       "      <th>4</th>\n",
       "      <td>0.008352</td>\n",
       "      <td>0.000889</td>\n",
       "      <td>0.001251</td>\n",
       "      <td>0.000153</td>\n",
       "      <td>10</td>\n",
       "      <td>10</td>\n",
       "      <td>{'max_depth': 10, 'min_samples_leaf': 10}</td>\n",
       "      <td>0.845714</td>\n",
       "      <td>0.847619</td>\n",
       "      <td>0.853333</td>\n",
       "      <td>...</td>\n",
       "      <td>0.846291</td>\n",
       "      <td>0.008921</td>\n",
       "      <td>6</td>\n",
       "      <td>0.896042</td>\n",
       "      <td>0.898903</td>\n",
       "      <td>0.898426</td>\n",
       "      <td>0.893232</td>\n",
       "      <td>0.895665</td>\n",
       "      <td>0.896454</td>\n",
       "      <td>0.002053</td>\n",
       "    </tr>\n",
       "    <tr>\n",
       "      <th>5</th>\n",
       "      <td>0.005978</td>\n",
       "      <td>0.000407</td>\n",
       "      <td>0.001574</td>\n",
       "      <td>0.000259</td>\n",
       "      <td>10</td>\n",
       "      <td>100</td>\n",
       "      <td>{'max_depth': 10, 'min_samples_leaf': 100}</td>\n",
       "      <td>0.849524</td>\n",
       "      <td>0.862857</td>\n",
       "      <td>0.862857</td>\n",
       "      <td>...</td>\n",
       "      <td>0.855063</td>\n",
       "      <td>0.009268</td>\n",
       "      <td>1</td>\n",
       "      <td>0.862184</td>\n",
       "      <td>0.858369</td>\n",
       "      <td>0.858846</td>\n",
       "      <td>0.859390</td>\n",
       "      <td>0.860410</td>\n",
       "      <td>0.859840</td>\n",
       "      <td>0.001355</td>\n",
       "    </tr>\n",
       "    <tr>\n",
       "      <th>6</th>\n",
       "      <td>0.008789</td>\n",
       "      <td>0.000798</td>\n",
       "      <td>0.001278</td>\n",
       "      <td>0.000206</td>\n",
       "      <td>100</td>\n",
       "      <td>1</td>\n",
       "      <td>{'max_depth': 100, 'min_samples_leaf': 1}</td>\n",
       "      <td>0.826667</td>\n",
       "      <td>0.796190</td>\n",
       "      <td>0.841905</td>\n",
       "      <td>...</td>\n",
       "      <td>0.824184</td>\n",
       "      <td>0.015118</td>\n",
       "      <td>9</td>\n",
       "      <td>1.000000</td>\n",
       "      <td>1.000000</td>\n",
       "      <td>1.000000</td>\n",
       "      <td>1.000000</td>\n",
       "      <td>1.000000</td>\n",
       "      <td>1.000000</td>\n",
       "      <td>0.000000</td>\n",
       "    </tr>\n",
       "    <tr>\n",
       "      <th>7</th>\n",
       "      <td>0.007366</td>\n",
       "      <td>0.000978</td>\n",
       "      <td>0.001154</td>\n",
       "      <td>0.000148</td>\n",
       "      <td>100</td>\n",
       "      <td>10</td>\n",
       "      <td>{'max_depth': 100, 'min_samples_leaf': 10}</td>\n",
       "      <td>0.845714</td>\n",
       "      <td>0.849524</td>\n",
       "      <td>0.855238</td>\n",
       "      <td>...</td>\n",
       "      <td>0.845143</td>\n",
       "      <td>0.010045</td>\n",
       "      <td>7</td>\n",
       "      <td>0.896996</td>\n",
       "      <td>0.899857</td>\n",
       "      <td>0.898426</td>\n",
       "      <td>0.894185</td>\n",
       "      <td>0.896617</td>\n",
       "      <td>0.897216</td>\n",
       "      <td>0.001899</td>\n",
       "    </tr>\n",
       "    <tr>\n",
       "      <th>8</th>\n",
       "      <td>0.004732</td>\n",
       "      <td>0.000340</td>\n",
       "      <td>0.001133</td>\n",
       "      <td>0.000218</td>\n",
       "      <td>100</td>\n",
       "      <td>100</td>\n",
       "      <td>{'max_depth': 100, 'min_samples_leaf': 100}</td>\n",
       "      <td>0.849524</td>\n",
       "      <td>0.862857</td>\n",
       "      <td>0.862857</td>\n",
       "      <td>...</td>\n",
       "      <td>0.855063</td>\n",
       "      <td>0.009268</td>\n",
       "      <td>1</td>\n",
       "      <td>0.862184</td>\n",
       "      <td>0.858369</td>\n",
       "      <td>0.858846</td>\n",
       "      <td>0.859390</td>\n",
       "      <td>0.860410</td>\n",
       "      <td>0.859840</td>\n",
       "      <td>0.001355</td>\n",
       "    </tr>\n",
       "  </tbody>\n",
       "</table>\n",
       "<p>9 rows × 22 columns</p>\n",
       "</div>"
      ],
      "text/plain": [
       "   mean_fit_time  std_fit_time  mean_score_time  std_score_time  \\\n",
       "0       0.002943      0.000348         0.001141        0.000132   \n",
       "1       0.003372      0.000436         0.001316        0.000337   \n",
       "2       0.003167      0.000347         0.001235        0.000192   \n",
       "3       0.009747      0.000646         0.002139        0.001174   \n",
       "4       0.008352      0.000889         0.001251        0.000153   \n",
       "5       0.005978      0.000407         0.001574        0.000259   \n",
       "6       0.008789      0.000798         0.001278        0.000206   \n",
       "7       0.007366      0.000978         0.001154        0.000148   \n",
       "8       0.004732      0.000340         0.001133        0.000218   \n",
       "\n",
       "  param_max_depth param_min_samples_leaf  \\\n",
       "0               1                      1   \n",
       "1               1                     10   \n",
       "2               1                    100   \n",
       "3              10                      1   \n",
       "4              10                     10   \n",
       "5              10                    100   \n",
       "6             100                      1   \n",
       "7             100                     10   \n",
       "8             100                    100   \n",
       "\n",
       "                                        params  split0_test_score  \\\n",
       "0      {'max_depth': 1, 'min_samples_leaf': 1}           0.849524   \n",
       "1     {'max_depth': 1, 'min_samples_leaf': 10}           0.849524   \n",
       "2    {'max_depth': 1, 'min_samples_leaf': 100}           0.849524   \n",
       "3     {'max_depth': 10, 'min_samples_leaf': 1}           0.847619   \n",
       "4    {'max_depth': 10, 'min_samples_leaf': 10}           0.845714   \n",
       "5   {'max_depth': 10, 'min_samples_leaf': 100}           0.849524   \n",
       "6    {'max_depth': 100, 'min_samples_leaf': 1}           0.826667   \n",
       "7   {'max_depth': 100, 'min_samples_leaf': 10}           0.845714   \n",
       "8  {'max_depth': 100, 'min_samples_leaf': 100}           0.849524   \n",
       "\n",
       "   split1_test_score  split2_test_score  ...  mean_test_score  std_test_score  \\\n",
       "0           0.862857           0.862857  ...         0.855063        0.009268   \n",
       "1           0.862857           0.862857  ...         0.855063        0.009268   \n",
       "2           0.862857           0.862857  ...         0.855063        0.009268   \n",
       "3           0.822857           0.859048  ...         0.841720        0.012099   \n",
       "4           0.847619           0.853333  ...         0.846291        0.008921   \n",
       "5           0.862857           0.862857  ...         0.855063        0.009268   \n",
       "6           0.796190           0.841905  ...         0.824184        0.015118   \n",
       "7           0.849524           0.855238  ...         0.845143        0.010045   \n",
       "8           0.862857           0.862857  ...         0.855063        0.009268   \n",
       "\n",
       "   rank_test_score  split0_train_score  split1_train_score  \\\n",
       "0                1            0.862184            0.858369   \n",
       "1                1            0.862184            0.858369   \n",
       "2                1            0.862184            0.858369   \n",
       "3                8            0.956128            0.948021   \n",
       "4                6            0.896042            0.898903   \n",
       "5                1            0.862184            0.858369   \n",
       "6                9            1.000000            1.000000   \n",
       "7                7            0.896996            0.899857   \n",
       "8                1            0.862184            0.858369   \n",
       "\n",
       "   split2_train_score  split3_train_score  split4_train_score  \\\n",
       "0            0.858846            0.859390            0.860410   \n",
       "1            0.858846            0.859390            0.860410   \n",
       "2            0.858846            0.859390            0.860410   \n",
       "3            0.954220            0.962345            0.957122   \n",
       "4            0.898426            0.893232            0.895665   \n",
       "5            0.858846            0.859390            0.860410   \n",
       "6            1.000000            1.000000            1.000000   \n",
       "7            0.898426            0.894185            0.896617   \n",
       "8            0.858846            0.859390            0.860410   \n",
       "\n",
       "   mean_train_score  std_train_score  \n",
       "0          0.859840         0.001355  \n",
       "1          0.859840         0.001355  \n",
       "2          0.859840         0.001355  \n",
       "3          0.955567         0.004635  \n",
       "4          0.896454         0.002053  \n",
       "5          0.859840         0.001355  \n",
       "6          1.000000         0.000000  \n",
       "7          0.897216         0.001899  \n",
       "8          0.859840         0.001355  \n",
       "\n",
       "[9 rows x 22 columns]"
      ]
     },
     "execution_count": 14,
     "metadata": {},
     "output_type": "execute_result"
    }
   ],
   "source": [
    "GridSearch_results"
   ]
  },
  {
   "cell_type": "code",
   "execution_count": 15,
   "metadata": {
    "slideshow": {
     "slide_type": "subslide"
    }
   },
   "outputs": [],
   "source": [
    "clf_GridSearch = GridSearch.best_estimator_"
   ]
  },
  {
   "cell_type": "code",
   "execution_count": 16,
   "metadata": {
    "slideshow": {
     "slide_type": "fragment"
    }
   },
   "outputs": [
    {
     "name": "stdout",
     "output_type": "stream",
     "text": [
      "Accuracy Manual:      0.8201\n",
      "Accuracy Grid Search: 0.8430\n"
     ]
    }
   ],
   "source": [
    "accuracy_GridSearch = accuracy_score(y_test, clf_GridSearch.predict(X_test))\n",
    "print(f'Accuracy Manual:      {accuracy_manual:.4f}')\n",
    "print(f'Accuracy Grid Search: {accuracy_GridSearch:.4f}')"
   ]
  },
  {
   "cell_type": "markdown",
   "metadata": {
    "slideshow": {
     "slide_type": "skip"
    }
   },
   "source": [
    "***"
   ]
  },
  {
   "cell_type": "markdown",
   "metadata": {
    "slideshow": {
     "slide_type": "slide"
    }
   },
   "source": [
    "## Part C: Random Search"
   ]
  },
  {
   "cell_type": "markdown",
   "metadata": {},
   "source": [
    "- $B$ function evaluations, $N$ hyperparameters, $y$ number of different values:"
   ]
  },
  {
   "cell_type": "markdown",
   "metadata": {},
   "source": [
    "$$ y_{\\mathrm{GS}} = B^{1/N}, \\quad y_{\\mathrm{RS}} = B  $$"
   ]
  },
  {
   "cell_type": "markdown",
   "metadata": {},
   "source": [
    "<img src=\"./images/RandomSearch.png\" alt=\"Random Search\" width=\"400\"/>"
   ]
  },
  {
   "cell_type": "markdown",
   "metadata": {
    "slideshow": {
     "slide_type": "fragment"
    }
   },
   "source": [
    "- _\"This failure of grid search is the rule rather than the exception in high dimensional\n",
    "hyper-parameter optimization\"_ [Bergstra, 2012]"
   ]
  },
  {
   "cell_type": "markdown",
   "metadata": {
    "slideshow": {
     "slide_type": "fragment"
    }
   },
   "source": [
    "- useful baseline because (almost) no assumptions about the ML algorithm being optimized."
   ]
  },
  {
   "cell_type": "markdown",
   "metadata": {
    "slideshow": {
     "slide_type": "skip"
    }
   },
   "source": [
    "***"
   ]
  },
  {
   "cell_type": "markdown",
   "metadata": {
    "slideshow": {
     "slide_type": "slide"
    }
   },
   "source": [
    "__[Random Search](http://www.jmlr.org/papers/volume13/bergstra12a/bergstra12a.pdf)__ with __[Scikit Learn](https://scikit-learn.org/stable/modules/generated/sklearn.model_selection.RandomizedSearchCV.html#sklearn.model_selection.RandomizedSearchCV)__ using __[Scipy Stats](https://docs.scipy.org/doc/scipy/reference/stats.html)__ as PDFs for the parameters:"
   ]
  },
  {
   "cell_type": "code",
   "execution_count": 17,
   "metadata": {
    "slideshow": {
     "slide_type": "fragment"
    }
   },
   "outputs": [],
   "source": [
    "# specify parameters and distributions to sample from\n",
    "parameters_RandomSearch = {'max_depth': poisson(25), \n",
    "                           'min_samples_leaf': randint(1, 100)}"
   ]
  },
  {
   "cell_type": "code",
   "execution_count": 18,
   "metadata": {
    "slideshow": {
     "slide_type": "fragment"
    }
   },
   "outputs": [],
   "source": [
    "# run randomized search\n",
    "n_iter_search = 9\n",
    "RandomSearch = RandomizedSearchCV(clf_DecisionTree, \n",
    "                                  param_distributions=parameters_RandomSearch, \n",
    "                                  n_iter=n_iter_search, \n",
    "                                  cv=5, \n",
    "                                  iid=True, \n",
    "                                  return_train_score=True,\n",
    "                                  random_state=42)"
   ]
  },
  {
   "cell_type": "code",
   "execution_count": 19,
   "metadata": {
    "slideshow": {
     "slide_type": "fragment"
    }
   },
   "outputs": [],
   "source": [
    "# fit the random search instance\n",
    "RandomSearch.fit(X_train, y_train);"
   ]
  },
  {
   "cell_type": "code",
   "execution_count": 20,
   "metadata": {
    "slideshow": {
     "slide_type": "fragment"
    }
   },
   "outputs": [
    {
     "name": "stdout",
     "output_type": "stream",
     "text": [
      "Random Search: \tBest parameters:  {'max_depth': 26, 'min_samples_leaf': 83} , Best scores: 0.855\n"
     ]
    }
   ],
   "source": [
    "RandomSearch_results = pd.DataFrame(RandomSearch.cv_results_)                 \n",
    "print(\"Random Search: \\tBest parameters: \", RandomSearch.best_params_, f\", Best scores: {RandomSearch.best_score_:.3f}\")"
   ]
  },
  {
   "cell_type": "code",
   "execution_count": 21,
   "metadata": {
    "slideshow": {
     "slide_type": "subslide"
    }
   },
   "outputs": [
    {
     "data": {
      "text/html": [
       "<div>\n",
       "<style scoped>\n",
       "    .dataframe tbody tr th:only-of-type {\n",
       "        vertical-align: middle;\n",
       "    }\n",
       "\n",
       "    .dataframe tbody tr th {\n",
       "        vertical-align: top;\n",
       "    }\n",
       "\n",
       "    .dataframe thead th {\n",
       "        text-align: right;\n",
       "    }\n",
       "</style>\n",
       "<table border=\"1\" class=\"dataframe\">\n",
       "  <thead>\n",
       "    <tr style=\"text-align: right;\">\n",
       "      <th></th>\n",
       "      <th>mean_fit_time</th>\n",
       "      <th>std_fit_time</th>\n",
       "      <th>mean_score_time</th>\n",
       "      <th>std_score_time</th>\n",
       "      <th>param_max_depth</th>\n",
       "      <th>param_min_samples_leaf</th>\n",
       "      <th>params</th>\n",
       "      <th>split0_test_score</th>\n",
       "      <th>split1_test_score</th>\n",
       "      <th>split2_test_score</th>\n",
       "      <th>...</th>\n",
       "      <th>mean_test_score</th>\n",
       "      <th>std_test_score</th>\n",
       "      <th>rank_test_score</th>\n",
       "      <th>split0_train_score</th>\n",
       "      <th>split1_train_score</th>\n",
       "      <th>split2_train_score</th>\n",
       "      <th>split3_train_score</th>\n",
       "      <th>split4_train_score</th>\n",
       "      <th>mean_train_score</th>\n",
       "      <th>std_train_score</th>\n",
       "    </tr>\n",
       "  </thead>\n",
       "  <tbody>\n",
       "    <tr>\n",
       "      <th>0</th>\n",
       "      <td>0.005320</td>\n",
       "      <td>0.000370</td>\n",
       "      <td>0.001341</td>\n",
       "      <td>0.000378</td>\n",
       "      <td>23</td>\n",
       "      <td>72</td>\n",
       "      <td>{'max_depth': 23, 'min_samples_leaf': 72}</td>\n",
       "      <td>0.849524</td>\n",
       "      <td>0.862857</td>\n",
       "      <td>0.862857</td>\n",
       "      <td>...</td>\n",
       "      <td>0.854310</td>\n",
       "      <td>0.010586</td>\n",
       "      <td>6</td>\n",
       "      <td>0.862184</td>\n",
       "      <td>0.858369</td>\n",
       "      <td>0.858846</td>\n",
       "      <td>0.859390</td>\n",
       "      <td>0.860410</td>\n",
       "      <td>0.859840</td>\n",
       "      <td>0.001355</td>\n",
       "    </tr>\n",
       "    <tr>\n",
       "      <th>1</th>\n",
       "      <td>0.005886</td>\n",
       "      <td>0.000392</td>\n",
       "      <td>0.001208</td>\n",
       "      <td>0.000186</td>\n",
       "      <td>26</td>\n",
       "      <td>83</td>\n",
       "      <td>{'max_depth': 26, 'min_samples_leaf': 83}</td>\n",
       "      <td>0.849524</td>\n",
       "      <td>0.862857</td>\n",
       "      <td>0.862857</td>\n",
       "      <td>...</td>\n",
       "      <td>0.855072</td>\n",
       "      <td>0.009263</td>\n",
       "      <td>1</td>\n",
       "      <td>0.862184</td>\n",
       "      <td>0.858369</td>\n",
       "      <td>0.858846</td>\n",
       "      <td>0.859390</td>\n",
       "      <td>0.860410</td>\n",
       "      <td>0.859840</td>\n",
       "      <td>0.001355</td>\n",
       "    </tr>\n",
       "    <tr>\n",
       "      <th>2</th>\n",
       "      <td>0.007346</td>\n",
       "      <td>0.000623</td>\n",
       "      <td>0.001814</td>\n",
       "      <td>0.000796</td>\n",
       "      <td>17</td>\n",
       "      <td>24</td>\n",
       "      <td>{'max_depth': 17, 'min_samples_leaf': 24}</td>\n",
       "      <td>0.847619</td>\n",
       "      <td>0.860952</td>\n",
       "      <td>0.868571</td>\n",
       "      <td>...</td>\n",
       "      <td>0.854310</td>\n",
       "      <td>0.012320</td>\n",
       "      <td>6</td>\n",
       "      <td>0.875536</td>\n",
       "      <td>0.879351</td>\n",
       "      <td>0.878398</td>\n",
       "      <td>0.875596</td>\n",
       "      <td>0.881848</td>\n",
       "      <td>0.878146</td>\n",
       "      <td>0.002389</td>\n",
       "    </tr>\n",
       "    <tr>\n",
       "      <th>3</th>\n",
       "      <td>0.004911</td>\n",
       "      <td>0.000484</td>\n",
       "      <td>0.001056</td>\n",
       "      <td>0.000124</td>\n",
       "      <td>27</td>\n",
       "      <td>88</td>\n",
       "      <td>{'max_depth': 27, 'min_samples_leaf': 88}</td>\n",
       "      <td>0.849524</td>\n",
       "      <td>0.862857</td>\n",
       "      <td>0.862857</td>\n",
       "      <td>...</td>\n",
       "      <td>0.855072</td>\n",
       "      <td>0.009263</td>\n",
       "      <td>1</td>\n",
       "      <td>0.862184</td>\n",
       "      <td>0.858369</td>\n",
       "      <td>0.858846</td>\n",
       "      <td>0.859390</td>\n",
       "      <td>0.860410</td>\n",
       "      <td>0.859840</td>\n",
       "      <td>0.001355</td>\n",
       "    </tr>\n",
       "    <tr>\n",
       "      <th>4</th>\n",
       "      <td>0.004958</td>\n",
       "      <td>0.000237</td>\n",
       "      <td>0.000927</td>\n",
       "      <td>0.000088</td>\n",
       "      <td>31</td>\n",
       "      <td>64</td>\n",
       "      <td>{'max_depth': 31, 'min_samples_leaf': 64}</td>\n",
       "      <td>0.849524</td>\n",
       "      <td>0.862857</td>\n",
       "      <td>0.862857</td>\n",
       "      <td>...</td>\n",
       "      <td>0.855072</td>\n",
       "      <td>0.009263</td>\n",
       "      <td>1</td>\n",
       "      <td>0.862184</td>\n",
       "      <td>0.858369</td>\n",
       "      <td>0.858846</td>\n",
       "      <td>0.859390</td>\n",
       "      <td>0.861363</td>\n",
       "      <td>0.860030</td>\n",
       "      <td>0.001482</td>\n",
       "    </tr>\n",
       "    <tr>\n",
       "      <th>5</th>\n",
       "      <td>0.004577</td>\n",
       "      <td>0.000156</td>\n",
       "      <td>0.001026</td>\n",
       "      <td>0.000304</td>\n",
       "      <td>27</td>\n",
       "      <td>89</td>\n",
       "      <td>{'max_depth': 27, 'min_samples_leaf': 89}</td>\n",
       "      <td>0.849524</td>\n",
       "      <td>0.862857</td>\n",
       "      <td>0.862857</td>\n",
       "      <td>...</td>\n",
       "      <td>0.855072</td>\n",
       "      <td>0.009263</td>\n",
       "      <td>1</td>\n",
       "      <td>0.862184</td>\n",
       "      <td>0.858369</td>\n",
       "      <td>0.858846</td>\n",
       "      <td>0.859390</td>\n",
       "      <td>0.860410</td>\n",
       "      <td>0.859840</td>\n",
       "      <td>0.001355</td>\n",
       "    </tr>\n",
       "    <tr>\n",
       "      <th>6</th>\n",
       "      <td>0.006640</td>\n",
       "      <td>0.000860</td>\n",
       "      <td>0.001449</td>\n",
       "      <td>0.000303</td>\n",
       "      <td>22</td>\n",
       "      <td>42</td>\n",
       "      <td>{'max_depth': 22, 'min_samples_leaf': 42}</td>\n",
       "      <td>0.849524</td>\n",
       "      <td>0.836190</td>\n",
       "      <td>0.857143</td>\n",
       "      <td>...</td>\n",
       "      <td>0.845538</td>\n",
       "      <td>0.015713</td>\n",
       "      <td>9</td>\n",
       "      <td>0.866476</td>\n",
       "      <td>0.865999</td>\n",
       "      <td>0.862661</td>\n",
       "      <td>0.865110</td>\n",
       "      <td>0.864221</td>\n",
       "      <td>0.864893</td>\n",
       "      <td>0.001357</td>\n",
       "    </tr>\n",
       "    <tr>\n",
       "      <th>7</th>\n",
       "      <td>0.005768</td>\n",
       "      <td>0.000622</td>\n",
       "      <td>0.001191</td>\n",
       "      <td>0.000216</td>\n",
       "      <td>21</td>\n",
       "      <td>62</td>\n",
       "      <td>{'max_depth': 21, 'min_samples_leaf': 62}</td>\n",
       "      <td>0.849524</td>\n",
       "      <td>0.840000</td>\n",
       "      <td>0.862857</td>\n",
       "      <td>...</td>\n",
       "      <td>0.850496</td>\n",
       "      <td>0.009910</td>\n",
       "      <td>8</td>\n",
       "      <td>0.862184</td>\n",
       "      <td>0.858369</td>\n",
       "      <td>0.858846</td>\n",
       "      <td>0.859390</td>\n",
       "      <td>0.861363</td>\n",
       "      <td>0.860030</td>\n",
       "      <td>0.001482</td>\n",
       "    </tr>\n",
       "    <tr>\n",
       "      <th>8</th>\n",
       "      <td>0.005511</td>\n",
       "      <td>0.000685</td>\n",
       "      <td>0.001089</td>\n",
       "      <td>0.000071</td>\n",
       "      <td>20</td>\n",
       "      <td>64</td>\n",
       "      <td>{'max_depth': 20, 'min_samples_leaf': 64}</td>\n",
       "      <td>0.849524</td>\n",
       "      <td>0.862857</td>\n",
       "      <td>0.862857</td>\n",
       "      <td>...</td>\n",
       "      <td>0.855072</td>\n",
       "      <td>0.009263</td>\n",
       "      <td>1</td>\n",
       "      <td>0.862184</td>\n",
       "      <td>0.858369</td>\n",
       "      <td>0.858846</td>\n",
       "      <td>0.859390</td>\n",
       "      <td>0.861363</td>\n",
       "      <td>0.860030</td>\n",
       "      <td>0.001482</td>\n",
       "    </tr>\n",
       "  </tbody>\n",
       "</table>\n",
       "<p>9 rows × 22 columns</p>\n",
       "</div>"
      ],
      "text/plain": [
       "   mean_fit_time  std_fit_time  mean_score_time  std_score_time  \\\n",
       "0       0.005320      0.000370         0.001341        0.000378   \n",
       "1       0.005886      0.000392         0.001208        0.000186   \n",
       "2       0.007346      0.000623         0.001814        0.000796   \n",
       "3       0.004911      0.000484         0.001056        0.000124   \n",
       "4       0.004958      0.000237         0.000927        0.000088   \n",
       "5       0.004577      0.000156         0.001026        0.000304   \n",
       "6       0.006640      0.000860         0.001449        0.000303   \n",
       "7       0.005768      0.000622         0.001191        0.000216   \n",
       "8       0.005511      0.000685         0.001089        0.000071   \n",
       "\n",
       "  param_max_depth param_min_samples_leaf  \\\n",
       "0              23                     72   \n",
       "1              26                     83   \n",
       "2              17                     24   \n",
       "3              27                     88   \n",
       "4              31                     64   \n",
       "5              27                     89   \n",
       "6              22                     42   \n",
       "7              21                     62   \n",
       "8              20                     64   \n",
       "\n",
       "                                      params  split0_test_score  \\\n",
       "0  {'max_depth': 23, 'min_samples_leaf': 72}           0.849524   \n",
       "1  {'max_depth': 26, 'min_samples_leaf': 83}           0.849524   \n",
       "2  {'max_depth': 17, 'min_samples_leaf': 24}           0.847619   \n",
       "3  {'max_depth': 27, 'min_samples_leaf': 88}           0.849524   \n",
       "4  {'max_depth': 31, 'min_samples_leaf': 64}           0.849524   \n",
       "5  {'max_depth': 27, 'min_samples_leaf': 89}           0.849524   \n",
       "6  {'max_depth': 22, 'min_samples_leaf': 42}           0.849524   \n",
       "7  {'max_depth': 21, 'min_samples_leaf': 62}           0.849524   \n",
       "8  {'max_depth': 20, 'min_samples_leaf': 64}           0.849524   \n",
       "\n",
       "   split1_test_score  split2_test_score  ...  mean_test_score  std_test_score  \\\n",
       "0           0.862857           0.862857  ...         0.854310        0.010586   \n",
       "1           0.862857           0.862857  ...         0.855072        0.009263   \n",
       "2           0.860952           0.868571  ...         0.854310        0.012320   \n",
       "3           0.862857           0.862857  ...         0.855072        0.009263   \n",
       "4           0.862857           0.862857  ...         0.855072        0.009263   \n",
       "5           0.862857           0.862857  ...         0.855072        0.009263   \n",
       "6           0.836190           0.857143  ...         0.845538        0.015713   \n",
       "7           0.840000           0.862857  ...         0.850496        0.009910   \n",
       "8           0.862857           0.862857  ...         0.855072        0.009263   \n",
       "\n",
       "   rank_test_score  split0_train_score  split1_train_score  \\\n",
       "0                6            0.862184            0.858369   \n",
       "1                1            0.862184            0.858369   \n",
       "2                6            0.875536            0.879351   \n",
       "3                1            0.862184            0.858369   \n",
       "4                1            0.862184            0.858369   \n",
       "5                1            0.862184            0.858369   \n",
       "6                9            0.866476            0.865999   \n",
       "7                8            0.862184            0.858369   \n",
       "8                1            0.862184            0.858369   \n",
       "\n",
       "   split2_train_score  split3_train_score  split4_train_score  \\\n",
       "0            0.858846            0.859390            0.860410   \n",
       "1            0.858846            0.859390            0.860410   \n",
       "2            0.878398            0.875596            0.881848   \n",
       "3            0.858846            0.859390            0.860410   \n",
       "4            0.858846            0.859390            0.861363   \n",
       "5            0.858846            0.859390            0.860410   \n",
       "6            0.862661            0.865110            0.864221   \n",
       "7            0.858846            0.859390            0.861363   \n",
       "8            0.858846            0.859390            0.861363   \n",
       "\n",
       "   mean_train_score  std_train_score  \n",
       "0          0.859840         0.001355  \n",
       "1          0.859840         0.001355  \n",
       "2          0.878146         0.002389  \n",
       "3          0.859840         0.001355  \n",
       "4          0.860030         0.001482  \n",
       "5          0.859840         0.001355  \n",
       "6          0.864893         0.001357  \n",
       "7          0.860030         0.001482  \n",
       "8          0.860030         0.001482  \n",
       "\n",
       "[9 rows x 22 columns]"
      ]
     },
     "execution_count": 21,
     "metadata": {},
     "output_type": "execute_result"
    }
   ],
   "source": [
    "RandomSearch_results.head(10)"
   ]
  },
  {
   "cell_type": "code",
   "execution_count": 22,
   "metadata": {
    "slideshow": {
     "slide_type": "subslide"
    }
   },
   "outputs": [
    {
     "name": "stdout",
     "output_type": "stream",
     "text": [
      "Accuracy Manual:        0.8201\n",
      "Accuracy Grid search:   0.8430\n",
      "Accuracy Random Search: 0.8430\n"
     ]
    }
   ],
   "source": [
    "clf_RandomSearch = RandomSearch.best_estimator_\n",
    "\n",
    "accuracy_RandomSearch = accuracy_score(y_test, clf_RandomSearch.predict(X_test))\n",
    "print(f'Accuracy Manual:        {accuracy_manual:.4f}')\n",
    "print(f'Accuracy Grid search:   {accuracy_GridSearch:.4f}')\n",
    "print(f'Accuracy Random Search: {accuracy_RandomSearch:.4f}')"
   ]
  },
  {
   "cell_type": "markdown",
   "metadata": {
    "slideshow": {
     "slide_type": "skip"
    }
   },
   "source": [
    "***"
   ]
  },
  {
   "cell_type": "markdown",
   "metadata": {
    "slideshow": {
     "slide_type": "slide"
    }
   },
   "source": [
    "## Part D: Bayesian Optimization"
   ]
  },
  {
   "cell_type": "markdown",
   "metadata": {
    "slideshow": {
     "slide_type": "fragment"
    }
   },
   "source": [
    "- Expensive black box functions $\\Rightarrow$ need of smart guesses"
   ]
  },
  {
   "cell_type": "markdown",
   "metadata": {
    "slideshow": {
     "slide_type": "fragment"
    }
   },
   "source": [
    "1. Probabilistic Surrogate Model (to be fitted)  \n",
    "   - Often Gaussian Processes \n",
    "2. Acquisition function  \n",
    "   - Exploitation / Exploration  \n",
    "   - Cheap to Computer\n",
    "  \n",
    "_[Brochu, Cora, de Freitas, 2010]_"
   ]
  },
  {
   "cell_type": "markdown",
   "metadata": {
    "slideshow": {
     "slide_type": "subslide"
    }
   },
   "source": [
    "<img src=\"./images/BO1.png\" alt=\"Bayesian Optimization 1\" width=\"600\"/>"
   ]
  },
  {
   "cell_type": "markdown",
   "metadata": {
    "slideshow": {
     "slide_type": "subslide"
    }
   },
   "source": [
    "<img src=\"./images/BO2.png\" alt=\"Bayesian Optimization 2\" width=\"600\"/>"
   ]
  },
  {
   "cell_type": "markdown",
   "metadata": {
    "slideshow": {
     "slide_type": "subslide"
    }
   },
   "source": [
    "<img src=\"./images/BO3.png\" alt=\"Bayesian Optimization 3\" width=\"600\"/>"
   ]
  },
  {
   "cell_type": "markdown",
   "metadata": {
    "slideshow": {
     "slide_type": "subslide"
    }
   },
   "source": [
    "\n",
    "__[Bayesian Optimization](https://arxiv.org/pdf/1012.2599v1.pdf)__ with the Python package __[BayesianOptimization](https://github.com/fmfn/BayesianOptimization)__:\n"
   ]
  },
  {
   "cell_type": "code",
   "execution_count": 23,
   "metadata": {
    "slideshow": {
     "slide_type": "fragment"
    }
   },
   "outputs": [],
   "source": [
    "from bayes_opt import BayesianOptimization\n",
    "from sklearn.model_selection import cross_val_score\n",
    "\n",
    "def DecisionTree_CrossValidation(max_depth, min_samples_leaf, data, targets):\n",
    "    \"\"\"Decision Tree cross validation.\n",
    "       Fits a Decision Tree with the given paramaters to the target \n",
    "       given data, calculated a CV accuracy score and returns the mean.\n",
    "       The goal is to find combinations of max_depth, min_samples_leaf \n",
    "       that maximize the accuracy\n",
    "    \"\"\"\n",
    "    \n",
    "    estimator = DecisionTreeClassifier(random_state=42, \n",
    "                                       max_depth=max_depth, \n",
    "                                       min_samples_leaf=min_samples_leaf)\n",
    "    \n",
    "    cval = cross_val_score(estimator, data, targets, scoring='accuracy', cv=5)\n",
    "    \n",
    "    return cval.mean()"
   ]
  },
  {
   "cell_type": "code",
   "execution_count": 24,
   "metadata": {
    "slideshow": {
     "slide_type": "subslide"
    }
   },
   "outputs": [],
   "source": [
    "def optimize_DecisionTree(data, targets, pars, n_iter=5):\n",
    "    \"\"\"Apply Bayesian Optimization to Decision Tree parameters.\"\"\"\n",
    "    \n",
    "    def crossval_wrapper(max_depth, min_samples_leaf):\n",
    "        \"\"\"Wrapper of Decision Tree cross validation. \n",
    "           Notice how we ensure max_depth, min_samples_leaf \n",
    "           are casted to integer before we pass them along.\n",
    "        \"\"\"\n",
    "        return DecisionTree_CrossValidation(max_depth=int(max_depth), \n",
    "                                            min_samples_leaf=int(min_samples_leaf), \n",
    "                                            data=data, \n",
    "                                            targets=targets)\n",
    "\n",
    "    optimizer = BayesianOptimization(f=crossval_wrapper, \n",
    "                                     pbounds=pars, \n",
    "                                     random_state=42, \n",
    "                                     verbose=2)\n",
    "    optimizer.maximize(init_points=4, n_iter=n_iter)\n",
    "\n",
    "    return optimizer"
   ]
  },
  {
   "cell_type": "code",
   "execution_count": 25,
   "metadata": {
    "slideshow": {
     "slide_type": "subslide"
    }
   },
   "outputs": [
    {
     "name": "stdout",
     "output_type": "stream",
     "text": [
      "|   iter    |  target   | max_depth | min_sa... |\n",
      "-------------------------------------------------\n",
      "| \u001b[0m 1       \u001b[0m | \u001b[0m 0.8551  \u001b[0m | \u001b[0m 38.08   \u001b[0m | \u001b[0m 95.12   \u001b[0m |\n",
      "| \u001b[0m 2       \u001b[0m | \u001b[0m 0.849   \u001b[0m | \u001b[0m 73.47   \u001b[0m | \u001b[0m 60.27   \u001b[0m |\n",
      "| \u001b[0m 3       \u001b[0m | \u001b[0m 0.8524  \u001b[0m | \u001b[0m 16.45   \u001b[0m | \u001b[0m 16.44   \u001b[0m |\n",
      "| \u001b[0m 4       \u001b[0m | \u001b[0m 0.8551  \u001b[0m | \u001b[0m 6.75    \u001b[0m | \u001b[0m 86.75   \u001b[0m |\n",
      "| \u001b[0m 5       \u001b[0m | \u001b[0m 0.8551  \u001b[0m | \u001b[0m 1.161   \u001b[0m | \u001b[0m 99.55   \u001b[0m |\n",
      "| \u001b[0m 6       \u001b[0m | \u001b[0m 0.8551  \u001b[0m | \u001b[0m 1.038   \u001b[0m | \u001b[0m 99.98   \u001b[0m |\n",
      "| \u001b[0m 7       \u001b[0m | \u001b[0m 0.8551  \u001b[0m | \u001b[0m 1.417   \u001b[0m | \u001b[0m 99.85   \u001b[0m |\n",
      "| \u001b[0m 8       \u001b[0m | \u001b[0m 0.8551  \u001b[0m | \u001b[0m 1.171   \u001b[0m | \u001b[0m 99.52   \u001b[0m |\n",
      "| \u001b[0m 9       \u001b[0m | \u001b[0m 0.8551  \u001b[0m | \u001b[0m 1.526   \u001b[0m | \u001b[0m 99.61   \u001b[0m |\n",
      "=================================================\n",
      "{'target': 0.8550626526908692, 'params': {'max_depth': 38.07947176588889, 'min_samples_leaf': 95.1207163345817}}\n"
     ]
    }
   ],
   "source": [
    "parameters_BayesianOptimization = {\"max_depth\": (1, 100), \n",
    "                                   \"min_samples_leaf\": (1, 100),\n",
    "                                  }\n",
    "\n",
    "BayesianOptimization = optimize_DecisionTree(X_train, \n",
    "                                             y_train, \n",
    "                                             parameters_BayesianOptimization, \n",
    "                                             n_iter=5)\n",
    "print(BayesianOptimization.max)"
   ]
  },
  {
   "cell_type": "code",
   "execution_count": 26,
   "metadata": {
    "slideshow": {
     "slide_type": "fragment"
    }
   },
   "outputs": [],
   "source": [
    "params = BayesianOptimization.max['params']"
   ]
  },
  {
   "cell_type": "code",
   "execution_count": 27,
   "metadata": {
    "slideshow": {
     "slide_type": "skip"
    }
   },
   "outputs": [],
   "source": [
    "for key, val in params.items():\n",
    "    params[key] = int(val)"
   ]
  },
  {
   "cell_type": "code",
   "execution_count": 28,
   "metadata": {
    "slideshow": {
     "slide_type": "fragment"
    }
   },
   "outputs": [],
   "source": [
    "clf_BO = DecisionTreeClassifier(random_state=42, **params)\n",
    "clf_BO = clf_BO.fit(X_train, y_train)"
   ]
  },
  {
   "cell_type": "code",
   "execution_count": 29,
   "metadata": {
    "slideshow": {
     "slide_type": "subslide"
    }
   },
   "outputs": [
    {
     "name": "stdout",
     "output_type": "stream",
     "text": [
      "Accuracy Manual:                0.8201\n",
      "Accuracy Grid Search:           0.8430\n",
      "Accuracy Random Search:         0.8430\n",
      "Accuracy Bayesian Optimization: 0.8430\n"
     ]
    }
   ],
   "source": [
    "accuracy_BayesianOptimization = accuracy_score(y_test, clf_BO.predict(X_test))\n",
    "print(f'Accuracy Manual:                {accuracy_manual:.4f}')\n",
    "print(f'Accuracy Grid Search:           {accuracy_GridSearch:.4f}')\n",
    "print(f'Accuracy Random Search:         {accuracy_RandomSearch:.4f}')\n",
    "print(f'Accuracy Bayesian Optimization: {accuracy_BayesianOptimization:.4f}')"
   ]
  },
  {
   "cell_type": "markdown",
   "metadata": {
    "slideshow": {
     "slide_type": "skip"
    }
   },
   "source": [
    "***"
   ]
  },
  {
   "cell_type": "markdown",
   "metadata": {
    "slideshow": {
     "slide_type": "slide"
    }
   },
   "source": [
    "## Part D: Full Scan over Parameter Space"
   ]
  },
  {
   "cell_type": "markdown",
   "metadata": {
    "slideshow": {
     "slide_type": "fragment"
    }
   },
   "source": [
    "Only possible in low-dimensional space, slow"
   ]
  },
  {
   "cell_type": "code",
   "execution_count": 30,
   "metadata": {
    "slideshow": {
     "slide_type": "fragment"
    }
   },
   "outputs": [
    {
     "name": "stderr",
     "output_type": "stream",
     "text": [
      "100%|██████████| 29/29 [00:07<00:00,  3.14it/s]\n"
     ]
    }
   ],
   "source": [
    "max_depth_array = np.arange(1, 30)\n",
    "min_samples_leaf_array = np.arange(2, 31)\n",
    "Z = np.zeros((len(max_depth_array), len(min_samples_leaf_array)))\n",
    "\n",
    "for i, max_depth in enumerate(tqdm(max_depth_array)):\n",
    "    for j, min_samples_leaf in enumerate(min_samples_leaf_array):\n",
    "        \n",
    "        clf = DecisionTreeClassifier(random_state=42, \n",
    "                                     max_depth=max_depth, \n",
    "                                     min_samples_leaf=\n",
    "                                     min_samples_leaf)\n",
    "        clf.fit(X_train, y_train)\n",
    "        acc = accuracy_score(y_test, clf.predict(X_test))\n",
    "        Z[i, j] = acc\n",
    "        \n",
    "# Notice: have to transpose Z to match up with imshow\n",
    "Z = Z.T"
   ]
  },
  {
   "cell_type": "markdown",
   "metadata": {
    "slideshow": {
     "slide_type": "subslide"
    }
   },
   "source": [
    "Plot the results:"
   ]
  },
  {
   "cell_type": "code",
   "execution_count": 31,
   "metadata": {
    "slideshow": {
     "slide_type": "fragment"
    }
   },
   "outputs": [
    {
     "data": {
      "image/png": "[encoded data removed]",
      "text/plain": [
       "<Figure size 864x432 with 2 Axes>"
      ]
     },
     "metadata": {
      "needs_background": "light"
     },
     "output_type": "display_data"
    }
   ],
   "source": [
    "fig, ax = plt.subplots(figsize=(12, 6))\n",
    "\n",
    "# notice that we are setting the extent and origin keywords\n",
    "CS = ax.imshow(Z, extent=[1, 30, 2, 31], cmap='viridis', origin='lower')\n",
    "ax.set(xlabel='max_depth', ylabel='min_samples_leaf')\n",
    "\n",
    "fig.colorbar(CS);"
   ]
  },
  {
   "cell_type": "markdown",
   "metadata": {
    "slideshow": {
     "slide_type": "skip"
    }
   },
   "source": [
    "***"
   ]
  },
  {
   "cell_type": "markdown",
   "metadata": {
    "slideshow": {
     "slide_type": "slide"
    }
   },
   "source": [
    "### Sum up:"
   ]
  },
  {
   "cell_type": "markdown",
   "metadata": {
    "slideshow": {
     "slide_type": "fragment"
    }
   },
   "source": [
    "<img src=\"./images/Chart.png\" alt=\"Chart\" width=\"800\"/>"
   ]
  },
  {
   "cell_type": "markdown",
   "metadata": {
    "slideshow": {
     "slide_type": "fragment"
    }
   },
   "source": [
    "__[Guide To Hyperparameters Search For Deep Learning Models](https://blog.floydhub.com/guide-to-hyperparameters-search-for-deep-learning-models/)__"
   ]
  },
  {
   "cell_type": "markdown",
   "metadata": {
    "slideshow": {
     "slide_type": "slide"
    }
   },
   "source": [
    "## Part E: Other Examples"
   ]
  },
  {
   "cell_type": "markdown",
   "metadata": {
    "slideshow": {
     "slide_type": "fragment"
    }
   },
   "source": [
    "Some of my own examples:"
   ]
  },
  {
   "cell_type": "markdown",
   "metadata": {
    "slideshow": {
     "slide_type": "fragment"
    }
   },
   "source": [
    "<img src=\"./images/Ex1.png\" alt=\"Example 1\" width=\"800\"/>"
   ]
  },
  {
   "cell_type": "markdown",
   "metadata": {
    "slideshow": {
     "slide_type": "subslide"
    }
   },
   "source": [
    "<img src=\"./images/Ex2.png\" alt=\"Example 2\" width=\"600\"/>"
   ]
  },
  {
   "cell_type": "markdown",
   "metadata": {
    "slideshow": {
     "slide_type": "fragment"
    }
   },
   "source": [
    "<img src=\"./images/Ex3.png\" alt=\"Example 3\" width=\"600\"/>"
   ]
  },
  {
   "cell_type": "markdown",
   "metadata": {
    "slideshow": {
     "slide_type": "subslide"
    }
   },
   "source": [
    "<img src=\"./images/Ex4.png\" alt=\"Example 4\" width=\"800\"/>"
   ]
  },
  {
   "cell_type": "markdown",
   "metadata": {
    "slideshow": {
     "slide_type": "fragment"
    }
   },
   "source": [
    "- Learning rate"
   ]
  },
  {
   "cell_type": "markdown",
   "metadata": {
    "slideshow": {
     "slide_type": "slide"
    }
   },
   "source": [
    "## Questions?"
   ]
  },
  {
   "cell_type": "markdown",
   "metadata": {
    "slideshow": {
     "slide_type": "fragment"
    }
   },
   "source": [
    "__[http://bit.ly/AppliedMachineLearning](http://bit.ly/AppliedMachineLearning)__"
   ]
  }
 ],
 "metadata": {
  "celltoolbar": "Slideshow",
  "kernelspec": {
   "display_name": "py37",
   "language": "python",
   "name": "py37"
  },
  "language_info": {
   "codemirror_mode": {
    "name": "ipython",
    "version": 3
   },
   "file_extension": ".py",
   "mimetype": "text/x-python",
   "name": "python",
   "nbconvert_exporter": "python",
   "pygments_lexer": "ipython3",
   "version": "3.6.7"
  }
 },
 "nbformat": 4,
 "nbformat_minor": 2
}
